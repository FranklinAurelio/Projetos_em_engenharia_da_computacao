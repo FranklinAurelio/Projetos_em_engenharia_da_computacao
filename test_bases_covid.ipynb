{
  "nbformat": 4,
  "nbformat_minor": 0,
  "metadata": {
    "colab": {
      "name": "test bases covid.ipynb",
      "provenance": [],
      "collapsed_sections": [],
      "machine_shape": "hm"
    },
    "kernelspec": {
      "name": "python3",
      "display_name": "Python 3"
    },
    "language_info": {
      "name": "python"
    },
    "accelerator": "GPU"
  },
  "cells": [
    {
      "cell_type": "markdown",
      "metadata": {
        "id": "FHa-7xHsekPQ"
      },
      "source": [
        "Downloade da base de dados"
      ]
    },
    {
      "cell_type": "code",
      "metadata": {
        "colab": {
          "base_uri": "https://localhost:8080/"
        },
        "id": "L_CcIXbEZcu2",
        "outputId": "a54255a6-b70a-4672-bc8d-2f9e427d522e"
      },
      "source": [
        "# rodar com hight ram\n",
        "!pip install basedosdados\n",
        "\n",
        "import pandas as pd\n",
        "import basedosdados as bd\n",
        "\n",
        "df = bd.read_table(dataset_id='br_ms_vacinacao_covid19', \n",
        "            table_id='microdados_vacinacao', billing_project_id='covid19-315118', limit = 34000000)"
      ],
      "execution_count": 2,
      "outputs": [
        {
          "output_type": "stream",
          "text": [
            "Requirement already satisfied: basedosdados in /usr/local/lib/python3.7/dist-packages (1.5.3)\n",
            "Requirement already satisfied: Jinja2==2.11.2 in /usr/local/lib/python3.7/dist-packages (from basedosdados) (2.11.2)\n",
            "Requirement already satisfied: google-cloud-bigquery-storage==1.1.0 in /usr/local/lib/python3.7/dist-packages (from basedosdados) (1.1.0)\n",
            "Requirement already satisfied: click==7.1.2 in /usr/local/lib/python3.7/dist-packages (from basedosdados) (7.1.2)\n",
            "Requirement already satisfied: pandas==1.2.4 in /usr/local/lib/python3.7/dist-packages (from basedosdados) (1.2.4)\n",
            "Requirement already satisfied: pyaml==20.4.0 in /usr/local/lib/python3.7/dist-packages (from basedosdados) (20.4.0)\n",
            "Requirement already satisfied: ruamel.yaml==0.17.4 in /usr/local/lib/python3.7/dist-packages (from basedosdados) (0.17.4)\n",
            "Requirement already satisfied: pandas-gbq==0.13.2 in /usr/local/lib/python3.7/dist-packages (from basedosdados) (0.13.2)\n",
            "Requirement already satisfied: google-cloud-storage==1.31.2 in /usr/local/lib/python3.7/dist-packages (from basedosdados) (1.31.2)\n",
            "Requirement already satisfied: tomlkit==0.7.0 in /usr/local/lib/python3.7/dist-packages (from basedosdados) (0.7.0)\n",
            "Requirement already satisfied: tqdm==4.50.2 in /usr/local/lib/python3.7/dist-packages (from basedosdados) (4.50.2)\n",
            "Requirement already satisfied: google-cloud-bigquery==1.28.0 in /usr/local/lib/python3.7/dist-packages (from basedosdados) (1.28.0)\n",
            "Requirement already satisfied: MarkupSafe>=0.23 in /usr/local/lib/python3.7/dist-packages (from Jinja2==2.11.2->basedosdados) (2.0.1)\n",
            "Requirement already satisfied: google-api-core[grpc]<2.0.0dev,>=1.14.0 in /usr/local/lib/python3.7/dist-packages (from google-cloud-bigquery-storage==1.1.0->basedosdados) (1.26.3)\n",
            "Requirement already satisfied: python-dateutil>=2.7.3 in /usr/local/lib/python3.7/dist-packages (from pandas==1.2.4->basedosdados) (2.8.1)\n",
            "Requirement already satisfied: numpy>=1.16.5 in /usr/local/lib/python3.7/dist-packages (from pandas==1.2.4->basedosdados) (1.19.5)\n",
            "Requirement already satisfied: pytz>=2017.3 in /usr/local/lib/python3.7/dist-packages (from pandas==1.2.4->basedosdados) (2018.9)\n",
            "Requirement already satisfied: PyYAML in /usr/local/lib/python3.7/dist-packages (from pyaml==20.4.0->basedosdados) (3.13)\n",
            "Requirement already satisfied: ruamel.yaml.clib>=0.1.2; platform_python_implementation == \"CPython\" and python_version < \"3.10\" in /usr/local/lib/python3.7/dist-packages (from ruamel.yaml==0.17.4->basedosdados) (0.2.2)\n",
            "Requirement already satisfied: pydata-google-auth in /usr/local/lib/python3.7/dist-packages (from pandas-gbq==0.13.2->basedosdados) (1.2.0)\n",
            "Requirement already satisfied: setuptools in /usr/local/lib/python3.7/dist-packages (from pandas-gbq==0.13.2->basedosdados) (57.0.0)\n",
            "Requirement already satisfied: google-auth-oauthlib in /usr/local/lib/python3.7/dist-packages (from pandas-gbq==0.13.2->basedosdados) (0.4.4)\n",
            "Requirement already satisfied: google-auth in /usr/local/lib/python3.7/dist-packages (from pandas-gbq==0.13.2->basedosdados) (1.30.0)\n",
            "Requirement already satisfied: google-cloud-core<2.0dev,>=1.4.1 in /usr/local/lib/python3.7/dist-packages (from google-cloud-storage==1.31.2->basedosdados) (1.6.0)\n",
            "Requirement already satisfied: requests<3.0.0dev,>=2.18.0 in /usr/local/lib/python3.7/dist-packages (from google-cloud-storage==1.31.2->basedosdados) (2.23.0)\n",
            "Requirement already satisfied: google-resumable-media<2.0dev,>=1.0.0 in /usr/local/lib/python3.7/dist-packages (from google-cloud-storage==1.31.2->basedosdados) (1.3.0)\n",
            "Requirement already satisfied: six<2.0.0dev,>=1.13.0 in /usr/local/lib/python3.7/dist-packages (from google-cloud-bigquery==1.28.0->basedosdados) (1.15.0)\n",
            "Requirement already satisfied: googleapis-common-protos<2.0dev,>=1.6.0 in /usr/local/lib/python3.7/dist-packages (from google-api-core[grpc]<2.0.0dev,>=1.14.0->google-cloud-bigquery-storage==1.1.0->basedosdados) (1.53.0)\n",
            "Requirement already satisfied: protobuf>=3.12.0 in /usr/local/lib/python3.7/dist-packages (from google-api-core[grpc]<2.0.0dev,>=1.14.0->google-cloud-bigquery-storage==1.1.0->basedosdados) (3.12.4)\n",
            "Requirement already satisfied: packaging>=14.3 in /usr/local/lib/python3.7/dist-packages (from google-api-core[grpc]<2.0.0dev,>=1.14.0->google-cloud-bigquery-storage==1.1.0->basedosdados) (20.9)\n",
            "Requirement already satisfied: grpcio<2.0dev,>=1.29.0; extra == \"grpc\" in /usr/local/lib/python3.7/dist-packages (from google-api-core[grpc]<2.0.0dev,>=1.14.0->google-cloud-bigquery-storage==1.1.0->basedosdados) (1.34.1)\n",
            "Requirement already satisfied: requests-oauthlib>=0.7.0 in /usr/local/lib/python3.7/dist-packages (from google-auth-oauthlib->pandas-gbq==0.13.2->basedosdados) (1.3.0)\n",
            "Requirement already satisfied: rsa<5,>=3.1.4; python_version >= \"3.6\" in /usr/local/lib/python3.7/dist-packages (from google-auth->pandas-gbq==0.13.2->basedosdados) (4.7.2)\n",
            "Requirement already satisfied: pyasn1-modules>=0.2.1 in /usr/local/lib/python3.7/dist-packages (from google-auth->pandas-gbq==0.13.2->basedosdados) (0.2.8)\n",
            "Requirement already satisfied: cachetools<5.0,>=2.0.0 in /usr/local/lib/python3.7/dist-packages (from google-auth->pandas-gbq==0.13.2->basedosdados) (4.2.2)\n",
            "Requirement already satisfied: urllib3!=1.25.0,!=1.25.1,<1.26,>=1.21.1 in /usr/local/lib/python3.7/dist-packages (from requests<3.0.0dev,>=2.18.0->google-cloud-storage==1.31.2->basedosdados) (1.24.3)\n",
            "Requirement already satisfied: certifi>=2017.4.17 in /usr/local/lib/python3.7/dist-packages (from requests<3.0.0dev,>=2.18.0->google-cloud-storage==1.31.2->basedosdados) (2020.12.5)\n",
            "Requirement already satisfied: chardet<4,>=3.0.2 in /usr/local/lib/python3.7/dist-packages (from requests<3.0.0dev,>=2.18.0->google-cloud-storage==1.31.2->basedosdados) (3.0.4)\n",
            "Requirement already satisfied: idna<3,>=2.5 in /usr/local/lib/python3.7/dist-packages (from requests<3.0.0dev,>=2.18.0->google-cloud-storage==1.31.2->basedosdados) (2.10)\n",
            "Requirement already satisfied: google-crc32c<2.0dev,>=1.0; python_version >= \"3.5\" in /usr/local/lib/python3.7/dist-packages (from google-resumable-media<2.0dev,>=1.0.0->google-cloud-storage==1.31.2->basedosdados) (1.1.2)\n",
            "Requirement already satisfied: pyparsing>=2.0.2 in /usr/local/lib/python3.7/dist-packages (from packaging>=14.3->google-api-core[grpc]<2.0.0dev,>=1.14.0->google-cloud-bigquery-storage==1.1.0->basedosdados) (2.4.7)\n",
            "Requirement already satisfied: oauthlib>=3.0.0 in /usr/local/lib/python3.7/dist-packages (from requests-oauthlib>=0.7.0->google-auth-oauthlib->pandas-gbq==0.13.2->basedosdados) (3.1.0)\n",
            "Requirement already satisfied: pyasn1>=0.1.3 in /usr/local/lib/python3.7/dist-packages (from rsa<5,>=3.1.4; python_version >= \"3.6\"->google-auth->pandas-gbq==0.13.2->basedosdados) (0.4.8)\n",
            "Requirement already satisfied: cffi>=1.0.0 in /usr/local/lib/python3.7/dist-packages (from google-crc32c<2.0dev,>=1.0; python_version >= \"3.5\"->google-resumable-media<2.0dev,>=1.0.0->google-cloud-storage==1.31.2->basedosdados) (1.14.5)\n",
            "Requirement already satisfied: pycparser in /usr/local/lib/python3.7/dist-packages (from cffi>=1.0.0->google-crc32c<2.0dev,>=1.0; python_version >= \"3.5\"->google-resumable-media<2.0dev,>=1.0.0->google-cloud-storage==1.31.2->basedosdados) (2.20)\n"
          ],
          "name": "stdout"
        },
        {
          "output_type": "stream",
          "text": [
            "Downloading: 100%|██████████| 34000000/34000000 [00:29<00:00, 1161610.25rows/s]\n"
          ],
          "name": "stderr"
        }
      ]
    },
    {
      "cell_type": "markdown",
      "metadata": {
        "id": "SsRPmFw-eoP_"
      },
      "source": [
        "Manipulação da base"
      ]
    },
    {
      "cell_type": "markdown",
      "metadata": {
        "id": "ARzVp4_3thKM"
      },
      "source": [
        "Total de vacinados por estado"
      ]
    },
    {
      "cell_type": "code",
      "metadata": {
        "colab": {
          "base_uri": "https://localhost:8080/"
        },
        "id": "F4yFdn74tg2P",
        "outputId": "564632e0-d665-4589-bd60-432608800034"
      },
      "source": [
        "pacientesUFTotal = df.groupby('sigla_uf',).id_paciente.size()\n",
        "pacientesUFTotal = pacientesUFTotal.sort_values\n",
        "print(pacientesUFTotal)"
      ],
      "execution_count": 30,
      "outputs": [
        {
          "output_type": "stream",
          "text": [
            "<bound method Series.sort_values of sigla_uf\n",
            "AC     192600\n",
            "AL     544174\n",
            "AM     651481\n",
            "AP     182917\n",
            "BA    2137187\n",
            "CE    1118229\n",
            "DF     544994\n",
            "ES     816646\n",
            "GO     857220\n",
            "MA     953740\n",
            "MG    3343026\n",
            "MS     465560\n",
            "MT     546029\n",
            "PA     953659\n",
            "PB     695020\n",
            "PE    1539543\n",
            "PI     409327\n",
            "PR    2138002\n",
            "RJ    2870293\n",
            "RN     663021\n",
            "RO     381949\n",
            "RR     140155\n",
            "RS    2344875\n",
            "SC    1091002\n",
            "SE     427843\n",
            "SP    7605740\n",
            "TO     385768\n",
            "Name: id_paciente, dtype: int64>\n"
          ],
          "name": "stdout"
        }
      ]
    },
    {
      "cell_type": "markdown",
      "metadata": {
        "id": "dB90eEmfkM_-"
      },
      "source": [
        "porcentagem dos pacientes que tomaram a segunda dose"
      ]
    },
    {
      "cell_type": "code",
      "metadata": {
        "colab": {
          "base_uri": "https://localhost:8080/"
        },
        "id": "e0PYHKfLedw0",
        "outputId": "fa92d751-6d1e-43fc-c70a-f77244c3484e"
      },
      "source": [
        "pacientesUF = (df.groupby('sigla_uf',).mean()-1)*100/2\n",
        "pacientesUF = pacientesUF.sort_values\n",
        "print(pacientesUF)"
      ],
      "execution_count": 21,
      "outputs": [
        {
          "output_type": "stream",
          "text": [
            "<bound method DataFrame.sort_values of                dose\n",
            "sigla_uf           \n",
            "AC        14.258341\n",
            "AL        13.979812\n",
            "AM        17.812930\n",
            "AP        16.010540\n",
            "BA        13.983624\n",
            "CE        17.347641\n",
            "DF        17.048169\n",
            "ES        14.916731\n",
            "GO        16.311565\n",
            "MA        14.694518\n",
            "MG        16.460887\n",
            "MS        15.376858\n",
            "MT        15.220071\n",
            "PA        15.726376\n",
            "PB        17.754119\n",
            "PE        17.431107\n",
            "PI        16.070809\n",
            "PR        15.699538\n",
            "RJ        14.286854\n",
            "RN        16.239154\n",
            "RO        16.386524\n",
            "RR        19.254397\n",
            "RS        16.822688\n",
            "SC        15.810495\n",
            "SE        14.629899\n",
            "SP        16.400602\n",
            "TO        16.308896>\n"
          ],
          "name": "stdout"
        }
      ]
    },
    {
      "cell_type": "markdown",
      "metadata": {
        "id": "j1y1_oiin47L"
      },
      "source": [
        "vacinas mais usadas para a segunda dose\n"
      ]
    },
    {
      "cell_type": "code",
      "metadata": {
        "colab": {
          "base_uri": "https://localhost:8080/"
        },
        "id": "RLG3X83el_Lg",
        "outputId": "4a28c15e-e4d4-4f6f-b790-8eac4d4d7f76"
      },
      "source": [
        "vacinas = (df.groupby('nome_fabricante').mean()-1)*100/2\n",
        "print(vacinas)"
      ],
      "execution_count": 23,
      "outputs": [
        {
          "output_type": "stream",
          "text": [
            "                                              dose\n",
            "nome_fabricante                                   \n",
            "ABBOTT BIOLOGICALS B.V. WEESP - HOLANDA   0.000000\n",
            "ASTRA ZENECA                              5.089669\n",
            "ASTRA ZENECA /FIOCRUZ                     0.000000\n",
            "ASTRA ZENECA COVISHIELD                   0.000000\n",
            "ASTRA ZENECA FIO CRUZ                     0.000000\n",
            "...                                            ...\n",
            "sinovac / butantan                        0.000000\n",
            "sinovac- butantan                        50.000000\n",
            "sinovac/ butantan                         0.000000\n",
            "sinovac/butantam                          0.000000\n",
            "sinovac/butantan                          8.760684\n",
            "\n",
            "[160 rows x 1 columns]\n"
          ],
          "name": "stdout"
        }
      ]
    },
    {
      "cell_type": "markdown",
      "metadata": {
        "id": "RB6x0v4NsM6T"
      },
      "source": [
        "aplicacao da segunda dose(porcentagem por data)\n"
      ]
    },
    {
      "cell_type": "code",
      "metadata": {
        "colab": {
          "base_uri": "https://localhost:8080/"
        },
        "id": "ojiIoOCFroac",
        "outputId": "5d0c48d1-3443-44ce-f6ac-9b60399ff53b"
      },
      "source": [
        "dataAplicacao = (df.groupby('data_aplicacao').mean()-1)*100/2\n",
        "print(dataAplicacao)"
      ],
      "execution_count": 26,
      "outputs": [
        {
          "output_type": "stream",
          "text": [
            "                     dose\n",
            "data_aplicacao           \n",
            "1939-04-22       0.000000\n",
            "1956-04-05       0.000000\n",
            "2018-02-11       0.000000\n",
            "2019-03-25       0.000000\n",
            "2020-01-20       0.000000\n",
            "...                   ...\n",
            "2021-05-27      12.086680\n",
            "2021-05-28       8.730229\n",
            "2021-05-29       7.130563\n",
            "2021-05-30       3.608622\n",
            "2021-05-31      10.554659\n",
            "\n",
            "[162 rows x 1 columns]\n"
          ],
          "name": "stdout"
        }
      ]
    }
  ]
}